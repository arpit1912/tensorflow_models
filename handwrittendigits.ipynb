{
  "nbformat": 4,
  "nbformat_minor": 0,
  "metadata": {
    "colab": {
      "name": "Untitled1.ipynb",
      "provenance": [],
      "authorship_tag": "ABX9TyPdMTNr9gtZ3nhnWXPa4sSp",
      "include_colab_link": true
    },
    "kernelspec": {
      "name": "python3",
      "display_name": "Python 3"
    }
  },
  "cells": [
    {
      "cell_type": "markdown",
      "metadata": {
        "id": "view-in-github",
        "colab_type": "text"
      },
      "source": [
        "<a href=\"https://colab.research.google.com/github/arpit1912/tensorflow_models/blob/master/handwrittendigits.ipynb\" target=\"_parent\"><img src=\"https://colab.research.google.com/assets/colab-badge.svg\" alt=\"Open In Colab\"/></a>"
      ]
    },
    {
      "cell_type": "code",
      "metadata": {
        "colab_type": "code",
        "id": "Nc3Qmdgg-lTW",
        "colab": {}
      },
      "source": [
        "import tensorflow as tf\n"
      ],
      "execution_count": 1,
      "outputs": []
    },
    {
      "cell_type": "code",
      "metadata": {
        "id": "QIyU5b7UNkvL",
        "colab_type": "code",
        "colab": {
          "base_uri": "https://localhost:8080/",
          "height": 52
        },
        "outputId": "4b2f5539-4d5b-4ff5-ba76-69c79484e18c"
      },
      "source": [
        "mnist = tf.keras.datasets.mnist\n",
        "(x_train,y_train), (x_test,y_test) = mnist.load_data()\n",
        "x_train,x_test = x_train/255.0, x_test/255.0"
      ],
      "execution_count": 2,
      "outputs": [
        {
          "output_type": "stream",
          "text": [
            "Downloading data from https://storage.googleapis.com/tensorflow/tf-keras-datasets/mnist.npz\n",
            "11493376/11490434 [==============================] - 0s 0us/step\n"
          ],
          "name": "stdout"
        }
      ]
    },
    {
      "cell_type": "code",
      "metadata": {
        "id": "Ul4o4pTyODVw",
        "colab_type": "code",
        "colab": {}
      },
      "source": [
        "model = tf.keras.models.Sequential([\n",
        "       tf.keras.layers.Flatten(input_shape=(28,28)),\n",
        "       tf.keras.layers.Dense(120,activation='relu'),\n",
        "       tf.keras.layers.Dropout(0.2),\n",
        "       tf.keras.layers.Dense(10,activation='softmax')                             \n",
        "])\n",
        "\n",
        "model.compile(optimizer='adam',loss='sparse_categorical_crossentropy',\n",
        "              metrics=['accuracy'])"
      ],
      "execution_count": 3,
      "outputs": []
    },
    {
      "cell_type": "code",
      "metadata": {
        "id": "p4XmI1KZV0qq",
        "colab_type": "code",
        "colab": {
          "base_uri": "https://localhost:8080/",
          "height": 229
        },
        "outputId": "c4dfdef3-b58d-485f-9d58-72a497d4fea0"
      },
      "source": [
        "model.fit(x_test,y_test,epochs=5)\n",
        "model.evaluate(x_test,y_test)"
      ],
      "execution_count": 4,
      "outputs": [
        {
          "output_type": "stream",
          "text": [
            "Epoch 1/5\n",
            "313/313 [==============================] - 1s 2ms/step - loss: 0.5567 - accuracy: 0.8418\n",
            "Epoch 2/5\n",
            "313/313 [==============================] - 1s 2ms/step - loss: 0.2736 - accuracy: 0.9211\n",
            "Epoch 3/5\n",
            "313/313 [==============================] - 1s 2ms/step - loss: 0.2084 - accuracy: 0.9386\n",
            "Epoch 4/5\n",
            "313/313 [==============================] - 1s 2ms/step - loss: 0.1647 - accuracy: 0.9532\n",
            "Epoch 5/5\n",
            "313/313 [==============================] - 1s 2ms/step - loss: 0.1383 - accuracy: 0.9596\n",
            "313/313 [==============================] - 0s 1ms/step - loss: 0.0883 - accuracy: 0.9764\n"
          ],
          "name": "stdout"
        },
        {
          "output_type": "execute_result",
          "data": {
            "text/plain": [
              "[0.08829212933778763, 0.9764000177383423]"
            ]
          },
          "metadata": {
            "tags": []
          },
          "execution_count": 4
        }
      ]
    },
    {
      "cell_type": "code",
      "metadata": {
        "id": "ixBptxRkV-3m",
        "colab_type": "code",
        "colab": {}
      },
      "source": [
        ""
      ],
      "execution_count": 4,
      "outputs": []
    }
  ]
}